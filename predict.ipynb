{
 "cells": [
  {
   "cell_type": "code",
   "execution_count": 1,
   "id": "054025c7-cc61-4f9f-9105-fca45500e3df",
   "metadata": {},
   "outputs": [],
   "source": [
    "import importlib\n",
    "from model.models.model_label_embedding import ModelLabelEmbedding\n",
    "from model.models.model_converter import ModelConverter\n",
    "import torch"
   ]
  },
  {
   "cell_type": "markdown",
   "id": "4cbb34bb-8c4f-49a3-8e11-84032cb327c2",
   "metadata": {},
   "source": [
    "## Модель явного конвертера"
   ]
  },
  {
   "cell_type": "markdown",
   "id": "238708c6-eedf-4430-a0fb-458495de04cd",
   "metadata": {},
   "source": [
    "Предобученная модель явного конвертера работает с двумя корпусами: СинТагРус (syntagrus) и НКРЯ (snyatnik).\n",
    "Загрузим эту модель. Здесь индекс СинТагРуса — 0, а индекс НКРЯ — 1."
   ]
  },
  {
   "cell_type": "code",
   "execution_count": null,
   "id": "5e6a14ad-79a3-43cd-af3a-f45b51003772",
   "metadata": {},
   "outputs": [],
   "source": [
    "config_converter = importlib.import_module('configs.model_converter.config').config\n",
    "config_converter['datasets_names'] = ['syntagrus', 'snyatnik']\n",
    "model_converter = ModelConverter.load_from_checkpoint(\n",
    "    r'checkpoints\\model_converter\\syntagrus+snyatnik.ckpt', config=config_converter, map_location=torch.device('cpu'))"
   ]
  },
  {
   "cell_type": "markdown",
   "id": "1288205c-7624-4719-9553-e61a7eb42ed0",
   "metadata": {},
   "source": [
    "Получить предсказания для одного предложения можно с помощью метода `predict`. На вход методу подается список слов предложения, морфологическая разметка в стандарте СинТагРуса или НКРЯ (формат помет такой же, который используется в исходных файлах этих корпусов), индекс морфологического стандарта на входе и индекс морфологического стандарта на выходе. Ниже осуществляется конвертация разметки предложения \"Защитит его бог!\" из морфологического стандарта НКРЯ в морфологический стандарт СинТагРуса и показывается, что при смене порядка слов пропадает ошибка выбора значения категории лица для словоформы \"защитит\"."
   ]
  },
  {
   "cell_type": "code",
   "execution_count": 3,
   "id": "e565e0d5-b7da-4e9a-93ec-c849151fb960",
   "metadata": {},
   "outputs": [
    {
     "data": {
      "text/plain": [
       "['V СОВ ИЗЪЯВ НЕПРОШ ЕД 2-Л', 'S ЕД МУЖ ВИН ОД', 'S ЕД МУЖ ИМ ОД', 'PUNCT']"
      ]
     },
     "execution_count": 3,
     "metadata": {},
     "output_type": "execute_result"
    }
   ],
   "source": [
    "model_converter.predict(['Защитит', 'его', 'бог', '!'], \n",
    "                        ['V sg pf tran act indic fut 3p', 'SPRO m sg acc 3p', 'S m anim sg nom', 'PUNCT'], \n",
    "                        1, 0)"
   ]
  },
  {
   "cell_type": "code",
   "execution_count": 4,
   "id": "cdf219c5-ba69-49e9-9932-1eab2f7dc378",
   "metadata": {},
   "outputs": [
    {
     "data": {
      "text/plain": [
       "['S ЕД МУЖ ИМ ОД', 'S ЕД МУЖ ВИН ОД', 'V СОВ ИЗЪЯВ НЕПРОШ ЕД 3-Л', 'PUNCT']"
      ]
     },
     "execution_count": 4,
     "metadata": {},
     "output_type": "execute_result"
    }
   ],
   "source": [
    "model_converter.predict(['Бог', 'его', 'защитит', '!'], \n",
    "                        ['S m anim sg nom', 'SPRO m sg acc 3p', 'V sg pf tran act indic fut 3p', 'PUNCT'], \n",
    "                        1, 0)"
   ]
  },
  {
   "cell_type": "markdown",
   "id": "2408f12e-1b98-49ce-a159-d0d471abade8",
   "metadata": {},
   "source": [
    "Посмотрим на конвертацию в обратную сторону:"
   ]
  },
  {
   "cell_type": "code",
   "execution_count": 5,
   "id": "3e3771de-dd90-4c2b-be6b-d9d507bbb397",
   "metadata": {},
   "outputs": [
    {
     "data": {
      "text/plain": [
       "['V sg pf tran act indic fut 2p',\n",
       " 'SPRO m sg acc 3p',\n",
       " 'S m anim sg nom',\n",
       " 'PUNCT']"
      ]
     },
     "execution_count": 5,
     "metadata": {},
     "output_type": "execute_result"
    }
   ],
   "source": [
    "model_converter.predict(['Защитит', 'его', 'бог', '!'], \n",
    "                        ['V СОВ ИЗЪЯВ НЕПРОШ ЕД 2-Л', 'S ЕД МУЖ ВИН ОД', 'S ЕД МУЖ ИМ ОД', 'PUNCT'], \n",
    "                        0, 1)"
   ]
  },
  {
   "cell_type": "code",
   "execution_count": 6,
   "id": "e5a74d76-1566-455b-a8db-36f300787ba1",
   "metadata": {},
   "outputs": [
    {
     "data": {
      "text/plain": [
       "['S m anim sg nom',\n",
       " 'SPRO m sg acc 3p',\n",
       " 'V sg pf tran act indic fut 3p',\n",
       " 'PUNCT']"
      ]
     },
     "execution_count": 6,
     "metadata": {},
     "output_type": "execute_result"
    }
   ],
   "source": [
    "model_converter.predict(['Бог', 'его', 'защитит', '!'], \n",
    "                        ['S ЕД МУЖ ИМ ОД', 'S ЕД МУЖ ВИН ОД', 'V СОВ ИЗЪЯВ НЕПРОШ ЕД 2-Л', 'PUNCT'], \n",
    "                        0, 1)"
   ]
  },
  {
   "cell_type": "markdown",
   "id": "3eb5a10f-d52b-4fbd-88f3-62607bcf0415",
   "metadata": {},
   "source": [
    "## Модель неявного конвертера"
   ]
  },
  {
   "cell_type": "markdown",
   "id": "d7c3d13c-02b5-46ba-8b22-6a125ef5e80e",
   "metadata": {},
   "source": [
    "Предобученная модель неявного конвертера фактически представляет из себя модель автоматической морфологической разметки, которая осуществляет разметку в любом из морфологических стандартов корпусов, предложенных организаторами соревнования MorphoRuEval-2017. Загрузим эту модель. Здесь индекс корпуса SynTagRus — 0, RNC — 1, GICR — 2, OpenCorpora — 3."
   ]
  },
  {
   "cell_type": "code",
   "execution_count": null,
   "id": "1e0bc0a2-bfa3-47a5-85fe-137cd3c6449f",
   "metadata": {},
   "outputs": [],
   "source": [
    "config_lel = importlib.import_module('configs.model_label_embedding.config').config\n",
    "config_lel['datasets_names'] = ['syntagrus_dialogue', 'rnc_dialogue', 'gikrya_dialogue', 'opencorpora_dialogue']\n",
    "model_lel = ModelLabelEmbedding.load_from_checkpoint(\n",
    "    r'checkpoints\\model_label_embedding\\morphorueval.ckpt', config=config_lel, map_location=torch.device('cpu'))"
   ]
  },
  {
   "cell_type": "markdown",
   "id": "9c61a2fc-5da4-4480-94a2-6331084dd67e",
   "metadata": {},
   "source": [
    "Получить предсказания для одного предложения также можно с помощью метода `predict`. На вход подается только список слов предложения и индекс корпуса, в морфологическом стандарте которого хочется получить разметку."
   ]
  },
  {
   "cell_type": "code",
   "execution_count": 8,
   "id": "955b7016-4b00-49d2-a0a8-6da633a78dfb",
   "metadata": {},
   "outputs": [
    {
     "data": {
      "text/plain": [
       "['ADP',\n",
       " 'NOUN Animacy=Inan Case=Dat Gender=Neut Number=Sing',\n",
       " 'NOUN Animacy=Anim Case=Nom Gender=Masc Number=Sing',\n",
       " 'ADJ Degree=Pos Gender=Masc Number=Sing Variant=Short',\n",
       " 'ADV Degree=Pos',\n",
       " 'PART',\n",
       " 'ADV Degree=Pos',\n",
       " 'PUNCT',\n",
       " 'CONJ',\n",
       " 'ADJ Case=Nom Degree=Pos Gender=Masc Number=Sing',\n",
       " 'VERB Mood=Ind Number=Sing Person=3 Tense=Notpast VerbForm=Fin Voice=Act',\n",
       " 'ADP',\n",
       " 'NOUN Animacy=Inan Case=Loc Gender=Masc Number=Sing',\n",
       " 'NUM NumForm=Digit',\n",
       " 'PUNCT']"
      ]
     },
     "execution_count": 8,
     "metadata": {},
     "output_type": "execute_result"
    }
   ],
   "source": [
    "model_lel.predict(['К', 'Lexus', 'Спилберг', 'неравнодушен', 'ещё', 'и', 'потому', ',', 'что', 'сам', 'ездит', 'на', 'RX', '300', '.'], 0)"
   ]
  },
  {
   "cell_type": "code",
   "execution_count": 9,
   "id": "0cf409e0-c74e-4c19-b565-7417e7a03dd4",
   "metadata": {},
   "outputs": [
    {
     "data": {
      "text/plain": [
       "['ADP',\n",
       " 'X',\n",
       " 'NOUN Animacy=Anim Case=Nom Gender=Masc Number=Sing',\n",
       " 'ADJ Gender=Masc Number=Sing Variant=Short',\n",
       " 'ADV Degree=Pos',\n",
       " 'CONJ',\n",
       " 'ADV Degree=Pos',\n",
       " 'PUNCT',\n",
       " 'CONJ',\n",
       " 'DET Case=Nom Gender=Masc Number=Sing',\n",
       " 'VERB Mood=Ind Number=Sing Person=3 Tense=Notpast VerbForm=Fin Voice=Act',\n",
       " 'ADP',\n",
       " 'X',\n",
       " 'NUM NumForm=Digit',\n",
       " 'PUNCT']"
      ]
     },
     "execution_count": 9,
     "metadata": {},
     "output_type": "execute_result"
    }
   ],
   "source": [
    "model_lel.predict(['К', 'Lexus', 'Спилберг', 'неравнодушен', 'ещё', 'и', 'потому', ',', 'что', 'сам', 'ездит', 'на', 'RX', '300', '.'], 1)"
   ]
  },
  {
   "cell_type": "code",
   "execution_count": 10,
   "id": "2fd84048-5aa1-4a18-9b2e-0802d39ae79f",
   "metadata": {},
   "outputs": [
    {
     "data": {
      "text/plain": [
       "['ADP',\n",
       " 'NOUN Animacy=Inan Case=Dat Gender=Masc Number=Sing',\n",
       " 'NOUN Animacy=Anim Case=Nom Gender=Masc Number=Sing',\n",
       " 'ADJ Degree=Pos Gender=Masc Number=Sing Variant=Short',\n",
       " 'ADV Degree=Pos',\n",
       " 'PART',\n",
       " 'ADV Degree=Pos',\n",
       " 'PUNCT',\n",
       " 'CONJ',\n",
       " 'ADJ Case=Nom Degree=Pos Gender=Masc Number=Sing',\n",
       " 'VERB Mood=Ind Number=Sing Person=3 Tense=Notpast VerbForm=Fin Voice=Act',\n",
       " 'ADP',\n",
       " 'NUM NumForm=Digit',\n",
       " 'NUM NumForm=Digit',\n",
       " 'PUNCT']"
      ]
     },
     "execution_count": 10,
     "metadata": {},
     "output_type": "execute_result"
    }
   ],
   "source": [
    "model_lel.predict(['К', 'Lexus', 'Спилберг', 'неравнодушен', 'ещё', 'и', 'потому', ',', 'что', 'сам', 'ездит', 'на', 'RX', '300', '.'], 2)"
   ]
  },
  {
   "cell_type": "code",
   "execution_count": 11,
   "id": "6502ca65-521d-44e3-bae1-45fb2ffc16a0",
   "metadata": {},
   "outputs": [
    {
     "data": {
      "text/plain": [
       "['ADP',\n",
       " 'X',\n",
       " 'PROPN Animacy=Anim Case=Nom Gender=Masc Number=Sing',\n",
       " 'ADJ Case=Nom Gender=Masc Number=Sing Variant=Short',\n",
       " 'ADV',\n",
       " 'CONJ',\n",
       " 'ADV',\n",
       " 'PUNCT',\n",
       " 'CONJ',\n",
       " 'DET Case=Nom Gender=Masc Number=Sing',\n",
       " 'VERB Aspect=Imp Mood=Ind Number=Sing Person=3 Tense=Notpast VerbForm=Fin',\n",
       " 'ADP',\n",
       " 'X',\n",
       " 'NUM Form=Digit',\n",
       " 'PUNCT']"
      ]
     },
     "execution_count": 11,
     "metadata": {},
     "output_type": "execute_result"
    }
   ],
   "source": [
    "model_lel.predict(['К', 'Lexus', 'Спилберг', 'неравнодушен', 'ещё', 'и', 'потому', ',', 'что', 'сам', 'ездит', 'на', 'RX', '300', '.'], 3)"
   ]
  }
 ],
 "metadata": {
  "kernelspec": {
   "display_name": "Python 3 (ipykernel)",
   "language": "python",
   "name": "python3"
  },
  "language_info": {
   "codemirror_mode": {
    "name": "ipython",
    "version": 3
   },
   "file_extension": ".py",
   "mimetype": "text/x-python",
   "name": "python",
   "nbconvert_exporter": "python",
   "pygments_lexer": "ipython3",
   "version": "3.9.10"
  }
 },
 "nbformat": 4,
 "nbformat_minor": 5
}
